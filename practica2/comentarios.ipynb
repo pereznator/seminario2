{
 "cells": [
  {
   "cell_type": "code",
   "execution_count": 67,
   "metadata": {},
   "outputs": [],
   "source": [
    "import nltk\n",
    "import pandas as pd\n",
    "from nltk.tokenize import word_tokenize, sent_tokenize\n",
    "from nltk.corpus import stopwords\n",
    "from nltk.stem import WordNetLemmatizer, PorterStemmer\n",
    "from nltk.sentiment import SentimentIntensityAnalyzer\n",
    "from collections import Counter\n",
    "\n",
    "# Descargar los recursos necesarios de NLTK\n",
    "# nltk.download('punkt')\n",
    "# nltk.download('stopwords')\n",
    "# nltk.download('wordnet')\n",
    "# nltk.download('vader_lexicon')\n",
    "# nltk.download()\n",
    "\n",
    "\n",
    "# Paso 2: Cargar el archivo de texto\n",
    "with open('Coursera Comments.txt', 'r', encoding='utf-8') as file:\n",
    "  text = file.read()\n"
   ]
  },
  {
   "cell_type": "code",
   "execution_count": 68,
   "id": "562dc2db",
   "metadata": {},
   "outputs": [
    {
     "name": "stdout",
     "output_type": "stream",
     "text": [
      "Palabras: ['Abril', 'Vargas', 'Pérez', '3', 'opiniones', 'PT', 'Valorada', 'con', '5', 'estrellas']\n",
      "Oraciones: ['\\nAbril Vargas Pérez\\n3 opiniones\\nPT\\nValorada con 5 estrellas sobre 5\\n21 ago 2024\\nEscandalizada y confundida por las…\\nEscandalizada y confundida por las malas reseñas.', 'Estoy en coursera desde el mes de julio 2024 y estoy haciendo actualmente el curso de front-end developer que imparte Meta.']\n"
     ]
    }
   ],
   "source": [
    "# Tokenización en palabras\n",
    "words = word_tokenize(text)\n",
    "\n",
    "# Tokenización en oraciones\n",
    "sentences = sent_tokenize(text)\n",
    "\n",
    "# Imprimir ejemplos\n",
    "print(\"Palabras:\", words[:10])  # Ejemplo de 10 palabras tokenizadas\n",
    "print(\"Oraciones:\", sentences[:2])  # Ejemplo de 2 oraciones tokenizadas"
   ]
  },
  {
   "cell_type": "code",
   "execution_count": 69,
   "id": "040cc513",
   "metadata": {},
   "outputs": [
    {
     "name": "stdout",
     "output_type": "stream",
     "text": [
      "Palabras filtradas: ['Abril', 'Vargas', 'Pérez', '3', 'opiniones', 'PT', 'Valorada', '5', 'estrellas', '5']\n"
     ]
    },
    {
     "name": "stderr",
     "output_type": "stream",
     "text": [
      "[nltk_data] Downloading package stopwords to\n",
      "[nltk_data]     C:\\Users\\Jorge\\AppData\\Roaming\\nltk_data...\n",
      "[nltk_data]   Package stopwords is already up-to-date!\n"
     ]
    }
   ],
   "source": [
    "# Definir las stopwords en español\n",
    "nltk.download('stopwords')\n",
    "stop_words = set(stopwords.words('spanish'))\n",
    "\n",
    "# Eliminar las palabras vacías\n",
    "filtered_words = [word for word in words if word.lower() not in stop_words and word.isalnum()]\n",
    "\n",
    "# Imprimir palabras filtradas\n",
    "print(\"Palabras filtradas:\", filtered_words[:10])\n"
   ]
  },
  {
   "cell_type": "code",
   "execution_count": 70,
   "id": "b3b3593d",
   "metadata": {},
   "outputs": [
    {
     "name": "stdout",
     "output_type": "stream",
     "text": [
      "Lematización: ['Abril', 'Vargas', 'Pérez', '3', 'opiniones', 'PT', 'Valorada', '5', 'estrellas', '5']\n",
      "Stemming: ['abril', 'varga', 'pérez', '3', 'opinion', 'pt', 'valorada', '5', 'estrella', '5']\n"
     ]
    }
   ],
   "source": [
    "# Lematización\n",
    "lemmatizer = WordNetLemmatizer()\n",
    "lemmatized_words = [lemmatizer.lemmatize(word) for word in filtered_words]\n",
    "\n",
    "# Stemming (raíz de palabras)\n",
    "stemmer = PorterStemmer()\n",
    "stemmed_words = [stemmer.stem(word) for word in filtered_words]\n",
    "\n",
    "# Imprimir resultados\n",
    "print(\"Lematización:\", lemmatized_words[:10])\n",
    "print(\"Stemming:\", stemmed_words[:10])\n"
   ]
  },
  {
   "cell_type": "code",
   "execution_count": 71,
   "id": "ed8f17a7",
   "metadata": {},
   "outputs": [
    {
     "name": "stdout",
     "output_type": "stream",
     "text": [
      "Frecuencia de palabras más comunes: [('curso', 1297), ('Semana', 843), ('TA', 835), ('participantes', 822), ('semana', 780), ('dudas', 744), ('portafolio', 731), ('1', 569), ('si', 551), ('foros', 510)]\n"
     ]
    }
   ],
   "source": [
    "# Calcular la frecuencia de las palabras\n",
    "word_freq = Counter(lemmatized_words)\n",
    "\n",
    "# Mostrar las 10 palabras más comunes\n",
    "print(\"Frecuencia de palabras más comunes:\", word_freq.most_common(10))\n"
   ]
  },
  {
   "cell_type": "code",
   "execution_count": 72,
   "id": "0f73891f",
   "metadata": {},
   "outputs": [
    {
     "name": "stdout",
     "output_type": "stream",
     "text": [
      "Puntuaciones de sentimiento: {'neg': 0.035, 'neu': 0.954, 'pos': 0.011, 'compound': -1.0}\n"
     ]
    }
   ],
   "source": [
    "# Analizador de sentimientos (VADER)\n",
    "sia = SentimentIntensityAnalyzer()\n",
    "\n",
    "# Análisis de sentimiento en el texto completo\n",
    "sentiment_scores = sia.polarity_scores(text)\n",
    "\n",
    "# Mostrar resultados del análisis de sentimiento\n",
    "print(\"Puntuaciones de sentimiento:\", sentiment_scores)\n"
   ]
  },
  {
   "cell_type": "code",
   "execution_count": 73,
   "id": "71d33ce5",
   "metadata": {},
   "outputs": [
    {
     "name": "stdout",
     "output_type": "stream",
     "text": [
      "Entidades nombradas: [('Abril', 'PERSON'), ('Vargas Pérez', 'PERSON'), ('PT Valorada', 'ORGANIZATION'), ('Escandalizada', 'PERSON'), ('Estoy', 'GPE'), ('Meta', 'ORGANIZATION'), ('Para', 'GPE'), ('Coursera Plus', 'PERSON'), ('Duré', 'GPE'), ('Ya', 'GPE'), ('Quizás', 'GPE'), ('Yo', 'GPE'), ('En', 'GPE'), ('En', 'GPE'), ('Valorada', 'PERSON'), ('Fecha', 'PERSON'), ('Valorada', 'PERSON'), ('Me', 'GPE'), ('Fecha', 'PERSON'), ('Valorada', 'PERSON'), ('ESTAFADORES', 'ORGANIZATION'), ('ESTAFADORES', 'GPE'), ('Fecha', 'PERSON'), ('ES Valorada', 'ORGANIZATION'), ('ESTAFADORES', 'ORGANIZATION'), ('ESTAFADORES', 'GPE'), ('Mismo', 'GPE'), ('Fecha', 'PERSON'), ('Maria Eugenia Simancas Soriano', 'PERSON'), ('US Valorada', 'ORGANIZATION')]\n"
     ]
    }
   ],
   "source": [
    "# Descargar recursos adicionales para reconocimiento de entidades nombradas\n",
    "# nltk.download('averaged_perceptron_tagger')\n",
    "# nltk.download('maxent_ne_chunker')\n",
    "# nltk.download('words')\n",
    "\n",
    "# Extraer entidades nombradas\n",
    "entities = []\n",
    "idx = 1\n",
    "for sent in sentences:\n",
    "  if idx == 20:\n",
    "    break\n",
    "  tokens = word_tokenize(sent)\n",
    "  tags = nltk.pos_tag(tokens)\n",
    "  tree = nltk.ne_chunk(tags)\n",
    "  for subtree in tree:\n",
    "    if isinstance(subtree, nltk.Tree):\n",
    "      entity_name = \" \".join([token for token, pos in subtree.leaves()])\n",
    "      entity_type = subtree.label()\n",
    "      entities.append((entity_name, entity_type))\n",
    "  idx += 1\n",
    "\n",
    "# Mostrar las entidades extraídas\n",
    "print(\"Entidades nombradas:\", entities)\n"
   ]
  },
  {
   "cell_type": "code",
   "execution_count": 74,
   "id": "0cabb3b0",
   "metadata": {},
   "outputs": [
    {
     "data": {
      "image/png": "[encoded data removed]",
      "text/plain": [
       "<Figure size 1000x500 with 1 Axes>"
      ]
     },
     "metadata": {},
     "output_type": "display_data"
    }
   ],
   "source": [
    "import matplotlib.pyplot as plt\n",
    "\n",
    "# Gráfico de la frecuencia de las palabras más comunes\n",
    "most_common_words = word_freq.most_common(10)\n",
    "words, frequencies = zip(*most_common_words)\n",
    "\n",
    "plt.figure(figsize=(10, 5))\n",
    "plt.bar(words, frequencies)\n",
    "plt.title(\"Palabras más comunes\")\n",
    "plt.xticks(rotation=45)\n",
    "plt.show()\n"
   ]
  }
 ],
 "metadata": {
  "kernelspec": {
   "display_name": "Python 3",
   "language": "python",
   "name": "python3"
  },
  "language_info": {
   "codemirror_mode": {
    "name": "ipython",
    "version": 3
   },
   "file_extension": ".py",
   "mimetype": "text/x-python",
   "name": "python",
   "nbconvert_exporter": "python",
   "pygments_lexer": "ipython3",
   "version": "3.12.4"
  }
 },
 "nbformat": 4,
 "nbformat_minor": 5
}
